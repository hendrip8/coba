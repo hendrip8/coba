{
 "cells": [
  {
   "cell_type": "code",
   "execution_count": 1,
   "metadata": {},
   "outputs": [
    {
     "name": "stdout",
     "output_type": "stream",
     "text": [
      "Hello world!\n"
     ]
    }
   ],
   "source": [
    "#This is a comment line\n",
    "print (\"Hello world!\")"
   ]
  },
  {
   "cell_type": "code",
   "execution_count": 2,
   "metadata": {},
   "outputs": [
    {
     "name": "stdout",
     "output_type": "stream",
     "text": [
      "3\n",
      "2\n"
     ]
    }
   ],
   "source": [
    "a = 3\n",
    "print (a)\n",
    "\n",
    "b = 2\n",
    "print (b)"
   ]
  },
  {
   "cell_type": "code",
   "execution_count": 3,
   "metadata": {},
   "outputs": [
    {
     "name": "stdout",
     "output_type": "stream",
     "text": [
      "23\n",
      "156.5\n",
      "Female\n"
     ]
    }
   ],
   "source": [
    "#Type of variable\n",
    "Age = 23 #integer\n",
    "Height = 156.5 #float\n",
    "Gender = \"Female\" #string\n",
    "\n",
    "print (Age)\n",
    "print (Height)\n",
    "print (Gender)"
   ]
  },
  {
   "cell_type": "code",
   "execution_count": 4,
   "metadata": {},
   "outputs": [
    {
     "name": "stdout",
     "output_type": "stream",
     "text": [
      "<class 'int'>\n",
      "<class 'float'>\n",
      "<class 'str'>\n"
     ]
    }
   ],
   "source": [
    "print (type(Age))\n",
    "print (type(Height))\n",
    "print (type(Gender))"
   ]
  },
  {
   "cell_type": "code",
   "execution_count": 5,
   "metadata": {},
   "outputs": [
    {
     "name": "stdout",
     "output_type": "stream",
     "text": [
      "22\n",
      "300\n",
      "30.0\n",
      "97\n"
     ]
    }
   ],
   "source": [
    "#Basic math operations\n",
    "print (20 + 2)\n",
    "print (75 * 4)\n",
    "print (25 + 30 / 6)\n",
    "print (100 - 25 * 3 % 4)"
   ]
  },
  {
   "cell_type": "code",
   "execution_count": 6,
   "metadata": {},
   "outputs": [
    {
     "name": "stdout",
     "output_type": "stream",
     "text": [
      "3\n",
      "3.3333333333333335\n",
      "1\n"
     ]
    }
   ],
   "source": [
    "print (round(10 / 3))  # div\n",
    "print (10.0 / 3)  # floating point division\n",
    "print (10 % 3)  # modulo = the remainder from the division"
   ]
  },
  {
   "cell_type": "code",
   "execution_count": 7,
   "metadata": {},
   "outputs": [
    {
     "name": "stdout",
     "output_type": "stream",
     "text": [
      "True\n",
      "True\n",
      "False\n",
      "True\n"
     ]
    }
   ],
   "source": [
    "# Comparison\n",
    "print (5 > 2)\n",
    "print (10 <= 100)\n",
    "print (5 - 95 > 0)\n",
    "print (7 == 7.0)"
   ]
  },
  {
   "cell_type": "code",
   "execution_count": 8,
   "metadata": {},
   "outputs": [
    {
     "name": "stdout",
     "output_type": "stream",
     "text": [
      "['apple', 'banana']\n",
      "['this is string', 10]\n",
      "[['apple', 'banana'], ['this is string', 10]]\n"
     ]
    }
   ],
   "source": [
    "#List\n",
    "fruits = []  # empty list\n",
    "fruits = [\"apple\", \"banana\"]  # list with 2 elements\n",
    "another_list = [\"this is string\", 10]  # list with different types of elements\n",
    "\n",
    "print (fruits)\n",
    "print (another_list)\n",
    "\n",
    "combined=[fruits, another_list]\n",
    "print (combined)"
   ]
  },
  {
   "cell_type": "code",
   "execution_count": 9,
   "metadata": {},
   "outputs": [
    {
     "name": "stdout",
     "output_type": "stream",
     "text": [
      "['apple', 'banana', 'orange']\n",
      "['apple', 'banana', 'orange', 'mango']\n"
     ]
    }
   ],
   "source": [
    "#Add element to a list\n",
    "fruits = [\"apple\", \"banana\"]\n",
    "fruits.append(\"orange\") #append is the syntax to add\n",
    "print (fruits)\n",
    "\n",
    "fruits=fruits+[\"mango\"]\n",
    "print (fruits)"
   ]
  },
  {
   "cell_type": "code",
   "execution_count": 10,
   "metadata": {},
   "outputs": [
    {
     "name": "stdout",
     "output_type": "stream",
     "text": [
      "(0, 5)\n",
      "('red', 'green', 'blue')\n"
     ]
    }
   ],
   "source": [
    "# Tuple\n",
    "# tuple is similar to list but immutable once created\n",
    "# 1. list bisa ditambahkan isinya, kalau tuple gak bisa\n",
    "# 2. list bisa gabungan tipe datanya : string, numerik dll ; kalau tuple hanya untuk tipe data yang sama\n",
    "# 3. list pakai kurung siku, tuple kurung biasa, set pakai kurung kurawal\n",
    "coordinate = (0, 5)\n",
    "colors = (\"red\", \"green\", \"blue\")\n",
    "print (coordinate)\n",
    "print (colors)"
   ]
  },
  {
   "cell_type": "code",
   "execution_count": 11,
   "metadata": {},
   "outputs": [
    {
     "name": "stdout",
     "output_type": "stream",
     "text": [
      "0 5\n",
      "red blue\n"
     ]
    }
   ],
   "source": [
    "# accessing elements\n",
    "print (coordinate[0], coordinate[1])\n",
    "print (colors[0], colors[2])"
   ]
  },
  {
   "cell_type": "code",
   "execution_count": 12,
   "metadata": {},
   "outputs": [
    {
     "name": "stdout",
     "output_type": "stream",
     "text": [
      "{1, 2, 3}\n",
      "[1, 2, 3, 3, 3, 5, 6, 6, 6]\n",
      "{1, 2, 3, 5, 6}\n",
      "{1, 2, 3, 5, 6}\n"
     ]
    }
   ],
   "source": [
    "# Set\n",
    "unique_numbers = {1, 2, 3, 3}\n",
    "print (unique_numbers)\n",
    "\n",
    "numbers=[1,2,3,3,3,5,6,6,6]\n",
    "print (numbers)\n",
    "print (set (numbers))\n",
    "\n",
    "numbers2={1,2,3,3,3,5,6,6,6}\n",
    "print (numbers2)"
   ]
  },
  {
   "cell_type": "code",
   "execution_count": 22,
   "metadata": {},
   "outputs": [
    {
     "name": "stdout",
     "output_type": "stream",
     "text": [
      "{1, 2, 3, 4}\n",
      "{1, 2, 3, 4, 5}\n"
     ]
    }
   ],
   "source": [
    "# add element to a set\n",
    "unique_numbers.add(2)\n",
    "unique_numbers.add(4)\n",
    "print (unique_numbers)\n",
    "unique_numbers.update([1, 5])\n",
    "print (unique_numbers)"
   ]
  },
  {
   "cell_type": "code",
   "execution_count": 24,
   "metadata": {},
   "outputs": [
    {
     "name": "stdout",
     "output_type": "stream",
     "text": [
      "Hello Peter!\n",
      "Hello Erma!\n"
     ]
    }
   ],
   "source": [
    "# FUNCTION\n",
    "# Without return\n",
    "def Hello(name):\n",
    "    print(\"Hello \" + name + \"!\")\n",
    "\n",
    "Hello(\"Peter\")\n",
    "Hello(\"Erma\")"
   ]
  },
  {
   "cell_type": "code",
   "execution_count": 25,
   "metadata": {},
   "outputs": [
    {
     "name": "stdout",
     "output_type": "stream",
     "text": [
      "32.0\n",
      "212.0\n"
     ]
    }
   ],
   "source": [
    "# With return\n",
    "def fahrenheit(t):\n",
    "    return (t * 9 / 5) + 32\n",
    "\n",
    "print (fahrenheit(0))\n",
    "print (fahrenheit(100))"
   ]
  },
  {
   "cell_type": "code",
   "execution_count": 27,
   "metadata": {},
   "outputs": [
    {
     "name": "stdout",
     "output_type": "stream",
     "text": [
      "Wrong guess! try with larger number\n",
      "Wrong guess! try with smaller number\n",
      "Correct! Congratulations!\n"
     ]
    }
   ],
   "source": [
    "# Conditional statement\n",
    "number = 99\n",
    "def guess_number(guess):\n",
    "    if guess < number:\n",
    "        print (\"Wrong guess! try with larger number\")\n",
    "    elif guess > number:\n",
    "        print (\"Wrong guess! try with smaller number\")\n",
    "    else:\n",
    "        print (\"Correct! Congratulations!\")\n",
    "        \n",
    "\n",
    "guess_number(5)\n",
    "guess_number(100)\n",
    "guess_number(99)"
   ]
  },
  {
   "cell_type": "code",
   "execution_count": 29,
   "metadata": {},
   "outputs": [
    {
     "name": "stdout",
     "output_type": "stream",
     "text": [
      "-5\n",
      "-4\n",
      "-3\n",
      "-2\n",
      "-1\n",
      "0\n",
      "1\n",
      "2\n",
      "3\n",
      "4\n",
      "5\n",
      "6\n",
      "7\n",
      "8\n",
      "9\n"
     ]
    }
   ],
   "source": [
    "# Looping\n",
    "for i in range(-5,10):\n",
    "    print (i)     "
   ]
  },
  {
   "cell_type": "code",
   "execution_count": 30,
   "metadata": {},
   "outputs": [
    {
     "name": "stdout",
     "output_type": "stream",
     "text": [
      "6\n",
      "7\n",
      "8\n",
      "9\n",
      "10\n",
      "11\n",
      "12\n",
      "13\n",
      "14\n",
      "15\n"
     ]
    }
   ],
   "source": [
    "for i in range(1,11):\n",
    "    print (i+5)"
   ]
  },
  {
   "cell_type": "code",
   "execution_count": 32,
   "metadata": {},
   "outputs": [
    {
     "name": "stdout",
     "output_type": "stream",
     "text": [
      "[0, 2, 4, 6, 8]\n"
     ]
    }
   ],
   "source": [
    "numbers = []  # create empty list\n",
    "\n",
    "#define even number\n",
    "def is_even(number):\n",
    "    return number % 2 == 0\n",
    "\n",
    "# loop from 0 to 9\n",
    "# add number to the list if the number is even\n",
    "for i in range(10):\n",
    "    if is_even(i):\n",
    "        numbers.append(i)\n",
    "    \n",
    "print (numbers)"
   ]
  },
  {
   "cell_type": "code",
   "execution_count": 34,
   "metadata": {},
   "outputs": [
    {
     "name": "stdout",
     "output_type": "stream",
     "text": [
      "The count is: 0\n",
      "The count is: 1\n",
      "The count is: 2\n",
      "The count is: 3\n",
      "The count is: 4\n",
      "The count is: 5\n",
      "The count is: 6\n",
      "The count is: 7\n",
      "The count is: 8\n"
     ]
    }
   ],
   "source": [
    "# WHILE LOOP\n",
    "count = 0\n",
    "while (count < 9):\n",
    "   print ('The count is:', count)\n",
    "   count = count + 1"
   ]
  },
  {
   "cell_type": "code",
   "execution_count": 49,
   "metadata": {
    "collapsed": true
   },
   "outputs": [],
   "source": [
    "#The main difference between the for's and the while's is a matter of pragmatics: \n",
    "#we usually use for when there is a known number of iterations,\n",
    "#and use while constructs when the number of iterations in not known in advance\n",
    "\n",
    "#A while loop will always evaluate the condition first.\n",
    "#A for loop allows you to initiate a counter variable, a check condition, and a way to increment your counter all in one line.\n"
   ]
  }
 ],
 "metadata": {
  "kernelspec": {
   "display_name": "Python 3",
   "language": "python",
   "name": "python3"
  },
  "language_info": {
   "codemirror_mode": {
    "name": "ipython",
    "version": 3
   },
   "file_extension": ".py",
   "mimetype": "text/x-python",
   "name": "python",
   "nbconvert_exporter": "python",
   "pygments_lexer": "ipython3",
   "version": "3.6.3"
  }
 },
 "nbformat": 4,
 "nbformat_minor": 2
}
